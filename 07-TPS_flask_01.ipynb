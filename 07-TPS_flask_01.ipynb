{
 "cells": [
  {
   "cell_type": "markdown",
   "metadata": {},
   "source": [
    "#  Flask\n",
    "\n",
    "- ### Flask es un framework web: Proporciona las herramientas para crear aplicaciones web\n",
    "- ### Es un microframework: Sin dependencias a librerías externas\n",
    "- ### Framework ligero\n",
    "\n",
    "- #### [https://flask.palletsprojects.com/en/stable/](https://flask.palletsprojects.com/en/stable/)\n",
    "- #### Opciones para el manejo de Bases de Datos\n",
    "    - #### Adaptadores de base de datos PostgreSQL como Psycopg\n",
    "        - #### [https://pypi.org/project/psycopg2](https://pypi.org/project/psycopg2)\n",
    "    - #### Framework ORM (Object Relational Mapper) como SQLAlchemy\n",
    "        - #### [https://www.sqlalchemy.org](https://www.sqlalchemy.org)\n"
   ]
  },
  {
   "cell_type": "code",
   "execution_count": null,
   "metadata": {},
   "outputs": [],
   "source": []
  },
  {
   "cell_type": "markdown",
   "metadata": {},
   "source": [
    "# Instalar Flask\n",
    "- ### Desde la terminal en el ambiente (TPS), instalar flask con pip "
   ]
  },
  {
   "cell_type": "code",
   "execution_count": null,
   "metadata": {},
   "outputs": [],
   "source": [
    "pip install flask"
   ]
  },
  {
   "cell_type": "markdown",
   "metadata": {},
   "source": [
    "### Comprobar la versión instalada de Flask"
   ]
  },
  {
   "cell_type": "code",
   "execution_count": null,
   "metadata": {},
   "outputs": [],
   "source": [
    "import flask\n",
    "print(flask.__version__)"
   ]
  },
  {
   "cell_type": "code",
   "execution_count": 2,
   "metadata": {},
   "outputs": [],
   "source": [
    "# Crear el directorio de la aplicación\n",
    "!mkdir app_web\n"
   ]
  },
  {
   "cell_type": "markdown",
   "metadata": {},
   "source": [
    "## Aplicacion Web en FLASK \n",
    "\n",
    "- ### Una vez que cree la instancia app, se utiliza para gestionar las solicitudes web entrantes y enviar respuestas al usuario. \n",
    "\n",
    "- ###  @app.route es un decorador que convierte una función Python regular en una función vista de Flask\n",
    "\n",
    "- ###  Convierte el valor de devolución de la función en una respuesta HTTP que se mostrará mediante un cliente HTTP\n",
    "\n",
    "- ###   Pasa el valor '/' a @app.route() para indicar que esta función responderá a las solicitudes web para la URL /, que es la URL principal.\n",
    "\n",
    "- ###  La función de vista hello() devuelve la cadena 'Hello, World!'​​ como respuesta.\n"
   ]
  },
  {
   "cell_type": "code",
   "execution_count": null,
   "metadata": {},
   "outputs": [],
   "source": [
    "# Crear el archivo inicio.py\n",
    "\n",
    "from flask import Flask\n",
    "\n",
    "app = Flask(__name__)\n",
    "\n",
    "\n",
    "@app.route('/')\n",
    "def inicio():\n",
    "    return '¡Hola, mundo! Esta es mi primera aplicación Flask.'\n",
    "\n",
    "if __name__ == '__main__':\n",
    "    app.run(debug=True)\n"
   ]
  },
  {
   "cell_type": "markdown",
   "metadata": {},
   "source": [
    "### Ejecutar la aplicacion\n"
   ]
  },
  {
   "cell_type": "markdown",
   "metadata": {},
   "source": [
    "#### Desde la terminal, en el directorio de la aplicación\n",
    "\n",
    "#### <span style=\"color:#0485CF\"> python inicio.py </span>\n",
    "\n",
    "\n",
    "\n",
    "```\n",
    "* Running on http://127.0.0.1:5000\n",
    "Press CTRL+C to quit\n",
    " * Restarting with stat\n",
    " * Debugger is active!\n",
    " * Debugger PIN: 947-720-893\n",
    "127.0.0.1 - - [16/Feb/2024 14:56:02] \"GET / HTTP/1.1\" 200 -\n",
    "127.0.0.1 - - [16/Feb/2024 14:56:02] \"GET /favicon.ico HTTP/1.1\" 404 -\n",
    "127.0.0.1 - - [16/Feb/2024 14:58:34] \"GET / HTTP/1.1\" 200 -\n",
    "```\n",
    "\n"
   ]
  },
  {
   "cell_type": "markdown",
   "metadata": {},
   "source": [
    "#### Otra forma de ejecuta la aplicación web usando el puerto 5000\n",
    "#### <span style=\"color:#0485CF\"> flask --app inicio.py --debug run -p 5000 </span>\n",
    "\n"
   ]
  },
  {
   "cell_type": "markdown",
   "metadata": {},
   "source": [
    "# Entrar al navegador para ver los resultados\n",
    "## http://127.0.0.1:5000\n"
   ]
  },
  {
   "cell_type": "code",
   "execution_count": null,
   "metadata": {},
   "outputs": [],
   "source": []
  },
  {
   "cell_type": "code",
   "execution_count": null,
   "metadata": {},
   "outputs": [],
   "source": []
  },
  {
   "cell_type": "markdown",
   "metadata": {},
   "source": [
    "# Ejemplo de pagina de login con HTML\n",
    "\n",
    "### 1. Crear la carpeta \"templates\" en el directorio de la aplicación\n",
    "### 2. Tener una plantilla HTML para tu página de inicio de sesión\n"
   ]
  },
  {
   "cell_type": "code",
   "execution_count": null,
   "metadata": {},
   "outputs": [],
   "source": [
    "# templates/login.html:\n",
    "\n",
    "<!DOCTYPE html>\n",
    "<html lang=\"es\">\n",
    "<head>\n",
    "    <meta charset=\"UTF-8\">\n",
    "    <meta name=\"viewport\" content=\"width=device-width, initial-scale=1.0\">\n",
    "    <title>Iniciar sesión</title>\n",
    "</head>\n",
    "<body>\n",
    "    <h1>Iniciar sesión</h1>\n",
    "    <form action=\"/login\" method=\"post\">\n",
    "        <label for=\"username\">Usuario:</label><br>\n",
    "        <input type=\"text\" id=\"usuario\" name=\"usuario\"><br>\n",
    "        <label for=\"password\">Contraseña:</label><br>\n",
    "        <input type=\"password\" id=\"contrasena\" name=\"contrasena\"><br><br>\n",
    "        <input type=\"submit\" value=\"Iniciar sesión\">\n",
    "    </form>\n",
    "</body>\n",
    "</html>"
   ]
  },
  {
   "cell_type": "markdown",
   "metadata": {},
   "source": [
    "### 3. En la aplicación Flask,  definir una ruta para la página de inicio de sesión y otra para manejar el envío del formulario de inicio de sesión."
   ]
  },
  {
   "cell_type": "code",
   "execution_count": null,
   "metadata": {},
   "outputs": [],
   "source": [
    "# Archivo inicio.py\n",
    "from flask import Flask, render_template, request, redirect, url_for\n",
    "\n",
    "\n",
    "app = Flask(__name__)\n",
    "\n",
    "# Datos de usuarios (simulados para el ejemplo)\n",
    "USUARIOS = {\n",
    "    'usuario1': 'u1',\n",
    "    'usuario2': 'u2'\n",
    "}\n",
    "\n",
    "\n",
    "\n",
    "@app.route('/')\n",
    "def inicio():\n",
    "    return '¡Hola, mundo! Esta es mi primera aplicación Flask.'\n",
    "\n",
    "@app.route('/login', methods=['GET', 'POST'])\n",
    "def login():\n",
    "    if request.method == 'POST':\n",
    "        username = request.form['usuario']\n",
    "        password = request.form['contrasena']\n",
    "        if username in USUARIOS and USUARIOS[username] == password:\n",
    "            # Iniciar sesión exitosa, redirigir a otra página\n",
    "            return redirect(url_for('inicio'))\n",
    "        else:\n",
    "            # Credenciales incorrectas, mostrar mensaje de error\n",
    "            return 'Credenciales incorrectas. <a href=\"/login\">Intenta de nuevo</a>'\n",
    "    else:\n",
    "        return render_template('login.html')\n",
    "    \n",
    "\n",
    "\n",
    "if __name__ == '__main__':\n",
    "    app.run(debug=True)\n"
   ]
  },
  {
   "cell_type": "markdown",
   "metadata": {},
   "source": [
    "# Entrar al navegador para ver los resultados\n",
    "## http://127.0.0.1:5000/login\n"
   ]
  },
  {
   "cell_type": "code",
   "execution_count": null,
   "metadata": {},
   "outputs": [],
   "source": []
  },
  {
   "cell_type": "markdown",
   "metadata": {},
   "source": [
    "## Conectando con la Base de Datos\n",
    "\n",
    "- #### En Flask, \"g\" es un objeto que se utiliza para almacenar y compartir datos temporalmente entre aplicaciones. Es útil para gestionar recursos durante una solicitud, como crear un recurso si no existe. \n",
    "- #### jsonify es una función de Flask que convierte diccionarios y listas a formato JSON. Se usa para serializar datos y enviarlos como respuestas a solicitudes. \n",
    "- #### En Flask, @app.teardown_appcontext es una función que se llama cuando se expulsa el contexto de la aplicación. El contexto de la aplicación se crea para cada solicitud y se utiliza para procesar las solicitudes. \n",
    "\n"
   ]
  },
  {
   "cell_type": "code",
   "execution_count": null,
   "metadata": {},
   "outputs": [],
   "source": [
    "# Archivo inicio.py o crear otra aplicacion inicio_db.py\n",
    "import psycopg2.pool\n",
    "from flask import Flask, g, jsonify\n",
    "\n",
    "app = Flask(__name__)\n",
    "\n",
    "\n",
    "db_config = { \"host\" : \"localhost\",\n",
    "                \"database\" : \"sistema_abc\",\n",
    "                \"user\" : \"uacm\",\n",
    "                \"password\" : \"uacm1\"}\n",
    "# Crear un pool de conexiones\n",
    "\n",
    "app.config['postgreSQL_pool']  = psycopg2.pool.ThreadedConnectionPool(minconn=1, maxconn=30, **db_config)\n",
    "\n",
    "def obtener_conexion():\n",
    "    # Obtener una conexión del pool\n",
    "    if 'db' not in g:\n",
    "        g.db = app.config['postgreSQL_pool'].getconn()\n",
    "    return g.db\n",
    "\n",
    "@app.teardown_appcontext\n",
    "def cerrar_conexion(exception):\n",
    "    print(\"\\n\\n\")\n",
    "    print(\"---\"*30)\n",
    "    print(\"liberando  conexiones de la BD\")\n",
    "    print(\"---\"*30)\n",
    "    db = g.pop('db', None)\n",
    "    if db is not None:\n",
    "        app.config['postgreSQL_pool'].putconn(db)\n",
    "    else:\n",
    "        print(\"no hay db\")\n",
    "\n",
    "\n",
    "    \n",
    "@app.route('/consulta')\n",
    "def consultaBD():\n",
    "    resultados  = []\n",
    "    try:\n",
    "        # Obtener una conexión\n",
    "        conexion = obtener_conexion()\n",
    "\n",
    "        # Crear un cursor\n",
    "        cursor = conexion.cursor()\n",
    "\n",
    "        # Ejecutar una consulta\n",
    "        cursor.execute(\"SELECT * FROM productos\")\n",
    "\n",
    "        # Obtener los resultados\n",
    "        filas = cursor.fetchall()\n",
    "\n",
    "        # Mostrar los resultados\n",
    "        for fila in filas:\n",
    "            print(fila)\n",
    "            resultados.append(str(fila)) \n",
    "\n",
    "        # Cerrar el cursor\n",
    "        cursor.close()\n",
    "\n",
    "    except Exception as e:\n",
    "        print(\"Error:\", e)\n",
    "\n",
    "    return \"Consulta realizada. Revisa la consola para ver los resultados. \\n\" + \" \".join(resultados)\n",
    "\n",
    "if __name__ == '__main__':\n",
    "    app.run(debug=True)"
   ]
  },
  {
   "cell_type": "markdown",
   "metadata": {},
   "source": [
    "# Entrar al navegador para ver los resultados\n",
    "## http://127.0.0.1:5000/consulta\n"
   ]
  },
  {
   "cell_type": "code",
   "execution_count": null,
   "metadata": {},
   "outputs": [],
   "source": []
  },
  {
   "cell_type": "code",
   "execution_count": null,
   "metadata": {},
   "outputs": [],
   "source": []
  },
  {
   "cell_type": "code",
   "execution_count": null,
   "metadata": {},
   "outputs": [],
   "source": []
  },
  {
   "cell_type": "markdown",
   "metadata": {},
   "source": [
    "### Ejemplo de Consulta y despliegue de los datos en una página HTML\n",
    "\n",
    "- ### 1. Crear la página de login (login.html)\n",
    "- ### 2. Crear la página del menú de la aplicación (menu.html)\n",
    "- ### 3. Crear la aplicación (app_web.py)\n",
    "- ### 4. Crear la página de consulta de datos (consulta.py)\n",
    "\n",
    "\n"
   ]
  },
  {
   "cell_type": "markdown",
   "metadata": {},
   "source": [
    "### Crear Archivo: templates/login.html"
   ]
  },
  {
   "cell_type": "code",
   "execution_count": null,
   "metadata": {},
   "outputs": [],
   "source": [
    "<!DOCTYPE html>\n",
    "<html lang=\"es\">\n",
    "<head>\n",
    "    <meta charset=\"UTF-8\">\n",
    "    <meta name=\"viewport\" content=\"width=device-width, initial-scale=1.0\">\n",
    "    <title>Iniciar sesión</title>\n",
    "</head>\n",
    "<body>\n",
    "    <h1>Iniciar sesión</h1>\n",
    "    <form action=\"/login\" method=\"post\">\n",
    "        <label for=\"username\">Usuario:</label><br>\n",
    "        <input type=\"text\" id=\"usuario\" name=\"usuario\"><br>\n",
    "        <label for=\"password\">Contraseña:</label><br>\n",
    "        <input type=\"password\" id=\"contrasena\" name=\"contrasena\"><br><br>\n",
    "        <input type=\"submit\" value=\"Iniciar sesión\">\n",
    "    </form>\n",
    "</body>\n",
    "</html>"
   ]
  },
  {
   "cell_type": "markdown",
   "metadata": {},
   "source": [
    "### Crear Archivo: templates/menu.html"
   ]
  },
  {
   "cell_type": "code",
   "execution_count": null,
   "metadata": {},
   "outputs": [],
   "source": [
    "<!DOCTYPE html>\n",
    "<html lang=\"es\">\n",
    "<head>\n",
    "    <meta charset=\"UTF-8\">\n",
    "    <title>Página de Inicio</title>\n",
    "</head>\n",
    "<body>\n",
    "    <h1>Bienvenido al menú de  aplicación</h1>\n",
    "    <a href=\"/consulta\">Consultar datos</a>\n",
    "</body>\n",
    "</html>"
   ]
  },
  {
   "cell_type": "markdown",
   "metadata": {},
   "source": [
    "### Crear archivo: app_web.py"
   ]
  },
  {
   "cell_type": "code",
   "execution_count": null,
   "metadata": {},
   "outputs": [],
   "source": [
    "import psycopg2.pool\n",
    "from flask import Flask, g, jsonify, render_template, request, redirect, url_for\n",
    "\n",
    "app = Flask(__name__)\n",
    "\n",
    "# Datos de usuarios (simulados para el ejemplo)\n",
    "USUARIOS = {\n",
    "    'usuario1': 'u1',\n",
    "    'usuario2': 'u2'\n",
    "}\n",
    "\n",
    "\n",
    "db_config = { \"host\" : \"localhost\",\n",
    "                \"database\" : \"sistema_abc\",\n",
    "                \"user\" : \"uacm\",\n",
    "                \"password\" : \"uacm1\"}\n",
    "# Crear un pool de conexiones\n",
    "\n",
    "app.config['postgreSQL_pool']  = psycopg2.pool.ThreadedConnectionPool(minconn=1, maxconn=30, **db_config)\n",
    "\n",
    "\n",
    "#--------------------------------------------------\n",
    "\n",
    "def obtener_conexion():\n",
    "    # Obtener una conexión del pool\n",
    "    if 'db' not in g:\n",
    "        g.db = app.config['postgreSQL_pool'].getconn()\n",
    "    return g.db\n",
    "\n",
    "#--------------------------------------------------\n",
    "\n",
    "\n",
    "#--------------------------------------------------\n",
    "@app.teardown_appcontext\n",
    "def cerrar_conexion(exception):\n",
    "    print(\"\\n\\n\")\n",
    "    print(\"---\"*30)\n",
    "    print(\"liberando  conexiones de la BD\")\n",
    "    print(\"---\"*30)\n",
    "    db = g.pop('db', None)\n",
    "    if db is not None:\n",
    "        app.config['postgreSQL_pool'].putconn(db)\n",
    "    else:\n",
    "        print(\"no hay db\")\n",
    "#--------------------------------------------------\n",
    "\n",
    "\n",
    "\n",
    "#--------------------------------------------------\n",
    "@app.route('/menu', methods=['GET', 'POST'])\n",
    "def menu():\n",
    "        return render_template('menu.html')\n",
    "\n",
    "\n",
    "#--------------------------------------------------\n",
    "\n",
    "@app.route('/login', methods=['GET', 'POST'])\n",
    "def login():\n",
    "    if request.method == 'POST':\n",
    "        username = request.form['usuario']\n",
    "        password = request.form['contrasena']\n",
    "        if username in USUARIOS and USUARIOS[username] == password:\n",
    "            # Iniciar sesión exitosa, redirigir a otra página\n",
    "            return redirect(url_for('menu'))\n",
    "        else:\n",
    "            # Credenciales incorrectas, mostrar mensaje de error\n",
    "            return 'Credenciales incorrectas. <a href=\"/login\">Intenta de nuevo</a>'\n",
    "    else:\n",
    "        return render_template('login.html')\n",
    "    \n",
    "\n",
    "#--------------------------------------------------\n",
    "@app.route('/consulta', methods=['GET', 'POST'])\n",
    "def consultaBD():\n",
    "    try:\n",
    "        # Obtener una conexión\n",
    "        conexion = obtener_conexion()\n",
    "        # Crear un cursor\n",
    "        cursor = conexion.cursor()\n",
    "        # Ejecutar una consulta\n",
    "        cursor.execute(\"SELECT * FROM productos\")\n",
    "        # Obtener los resultados\n",
    "        resultados = cursor.fetchall()\n",
    "        # Cerrar el cursor\n",
    "        cursor.close()\n",
    "\n",
    "    except Exception as e:\n",
    "        print(\"Error:\", e)\n",
    "\n",
    "    return render_template('consulta.html', datos=resultados)\n",
    "\n",
    "\n",
    "#--------------------------------------------------\n",
    "\n",
    "\n",
    "if __name__ == '__main__':\n",
    "    app.run(debug=True)"
   ]
  },
  {
   "cell_type": "markdown",
   "metadata": {},
   "source": [
    "### 2. Crear el archivo consulta.html, que es la página que desplegará los datos\n",
    "\n",
    "- #### En Flask, la etiqueta {% for %} se utiliza para crear bucles for en plantillas.\n",
    "- #### Las variables se usan con {{ }},\n"
   ]
  },
  {
   "cell_type": "code",
   "execution_count": null,
   "metadata": {},
   "outputs": [],
   "source": [
    "<!DOCTYPE html>\n",
    "<html lang=\"es\">\n",
    "<head>\n",
    "    <meta charset=\"UTF-8\">\n",
    "    <meta name=\"viewport\" content=\"width=device-width, initial-scale=1.0\">\n",
    "    <title>Consulta</title>\n",
    "    \n",
    "</head>\n",
    "<body>\n",
    "    <h1>Lista de Datos</h1>\n",
    "    <table>\n",
    "        <tr>\n",
    "            <th>id</th>\n",
    "            <th>DESC</th>\n",
    "            <th>precio</th>\n",
    "        </tr>\n",
    "        {% for id, desc, precio in datos %}\n",
    "        <tr>\n",
    "            <td>{{ id }}</td>\n",
    "            <td>{{ desc }}</td>\n",
    "            <td>{{ precio }}</td>\n",
    "        </tr>\n",
    "        {% endfor %}\n",
    "    </table>\n",
    "</body>\n",
    "</html>\n"
   ]
  },
  {
   "cell_type": "code",
   "execution_count": null,
   "metadata": {},
   "outputs": [],
   "source": []
  },
  {
   "cell_type": "markdown",
   "metadata": {},
   "source": [
    "# Entrar al navegador para ver los resultados\n",
    "## http://127.0.0.1:5000/login\n"
   ]
  },
  {
   "cell_type": "code",
   "execution_count": null,
   "metadata": {},
   "outputs": [],
   "source": []
  },
  {
   "cell_type": "code",
   "execution_count": null,
   "metadata": {},
   "outputs": [],
   "source": []
  },
  {
   "cell_type": "markdown",
   "metadata": {},
   "source": [
    "# Ejercicio\n",
    "\n",
    "- #### 1. Hacer una aplicación web que contenga un login de inicio de sesión\n",
    "- #### 2. Tenga un menú donde se desplieguen las opciones del sistema\n",
    "- #### 3. Consulte los datos de la tabla Empleados (todos)\n",
    "- #### 4. Consulte los datos de la tabla Empleados menores a cierto monto\n",
    "\n",
    "\n"
   ]
  }
 ],
 "metadata": {
  "kernelspec": {
   "display_name": "TPS",
   "language": "python",
   "name": "python3"
  },
  "language_info": {
   "codemirror_mode": {
    "name": "ipython",
    "version": 3
   },
   "file_extension": ".py",
   "mimetype": "text/x-python",
   "name": "python",
   "nbconvert_exporter": "python",
   "pygments_lexer": "ipython3",
   "version": "3.13.1"
  }
 },
 "nbformat": 4,
 "nbformat_minor": 2
}
