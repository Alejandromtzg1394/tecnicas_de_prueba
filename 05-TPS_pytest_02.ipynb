{
 "cells": [
  {
   "cell_type": "markdown",
   "metadata": {},
   "source": [
    "\n",
    "\n",
    "# <span style=\"color:#0485CF\"> Pruebas unitarias: Fixtures\n",
    "\n",
    " - ### https://docs.pytest.org"
   ]
  },
  {
   "cell_type": "markdown",
   "metadata": {},
   "source": [
    "## Uso de Fixtures\n",
    "\n",
    "- ### Las fixtures son la forma en que nos preparamos para una prueba\n",
    "\n",
    "- ### Inicializa las funciones por probar\n",
    "\n",
    "- ### Proporcionan una línea de base fija para que las pruebas se ejecuten de manera confiable y produzcan resultados consistentes y repetibles. \n",
    "\n",
    "- ### La inicialización puede configurar servicios, estados u otros entornos operativos. \n",
    "\n",
    "- ### Las funciones de prueba acceden a estos a través de argumentos\n",
    "\n",
    "- ### Se definen con el decorador @pytest.fixture\n",
    "\n"
   ]
  },
  {
   "cell_type": "markdown",
   "metadata": {},
   "source": [
    "## Ejemplo1\n"
   ]
  },
  {
   "cell_type": "code",
   "execution_count": 2,
   "metadata": {},
   "outputs": [],
   "source": [
    "# El contenido siguient es del archivo test_calcular_producto.py\n",
    "\n",
    "import pytest\n",
    "\n",
    "# Definir la función que queremos probar\n",
    "def calcular_producto(a, b):\n",
    "    return a * b\n",
    "\n",
    "# Definir una fixture para proporcionar datos de prueba\n",
    "@pytest.fixture\n",
    "def input_values():\n",
    "    a = 5\n",
    "    b = 3\n",
    "    return a, b\n",
    "\n",
    "# Definir el caso de prueba que utiliza la fixture\n",
    "def test_calcular_producto(input_values):\n",
    "    valor_esperado = 15\n",
    "    a, b = input_values\n",
    "    result = calcular_producto(a, b)\n",
    "    assert result == valor_esperado  # Verificar que el resultado es el esperado"
   ]
  },
  {
   "cell_type": "markdown",
   "metadata": {},
   "source": [
    "### Desde la terminal:\n",
    "### $ pytest -v test_calcula_producto.py"
   ]
  },
  {
   "cell_type": "code",
   "execution_count": null,
   "metadata": {},
   "outputs": [],
   "source": [
    "# archivo: test_rectangulo.py\n",
    "\n",
    "import pytest\n",
    "\n",
    "class Rectangulo:\n",
    "    def __init__(self, base, altura):\n",
    "        self.base = base\n",
    "        self.altura = altura\n",
    "\n",
    "    def area(self):\n",
    "        return self.base * self.altura\n",
    "    \n",
    "\n",
    "@pytest.fixture\n",
    "def rectangulo():\n",
    "    # Esta fixture proporciona un rectángulo con base 3 y altura 4\n",
    "    return Rectangulo(3, 4)\n",
    "\n",
    "def test_creacion_rectangulo(rectangulo):\n",
    "    # Verifica si el área del rectángulo es 12 (3 * 4)\n",
    "    base_esperada = 3\n",
    "    altura_esperada = 4\n",
    "    assert rectangulo.base == base_esperada\n",
    "    assert rectangulo.altura == altura_esperada\n",
    "\n",
    "\n",
    "def test_area(rectangulo):\n",
    "    # Verifica si el área del rectángulo es 12 (3 * 4)\n",
    "    valor_esperado = 12\n",
    "    assert rectangulo.area() == valor_esperado\n",
    "\n",
    "def test_otra_area():\n",
    "    # También podemos usar la fixture sin pasarla explícitamente\n",
    "    valor_esperado = 30\n",
    "    otro_rectangulo = Rectangulo(5, 6)\n",
    "    assert otro_rectangulo.area() == valor_esperado\n",
    "\n",
    "\n",
    "def test_creacion_otro_rectangulo():\n",
    "    # Verifica si el área del rectángulo es 12 (3 * 4)\n",
    "    base_esperada = 5\n",
    "    altura_esperada = 6\n",
    "    otro_rectangulo = Rectangulo(5, 6)\n",
    "    assert otro_rectangulo.base == base_esperada\n",
    "    assert otro_rectangulo.altura == altura_esperada\n"
   ]
  },
  {
   "cell_type": "markdown",
   "metadata": {},
   "source": [
    "### Desde la terminal:\n",
    "### $ pytest -v test_rectangulo.py"
   ]
  },
  {
   "cell_type": "code",
   "execution_count": null,
   "metadata": {},
   "outputs": [],
   "source": []
  },
  {
   "cell_type": "markdown",
   "metadata": {},
   "source": [
    "# <span style=\"color:#0485CF\"> Ejercicios: </span>\n",
    "\n",
    "### Crear las pruebas unitarias para las funciones:\n",
    "\n",
    "## Ejercicio 1.\n",
    "- ### Implementar las funciones calcular_producto y la clase Rectangulo en un módulo del paquete mi_paquete. Agregar los tests al paquete de tests. Probar la ejecución de los test para calcular_producto y la clase Rectangulo. \n",
    "\n",
    "- ### Para la clase Rectangulo considere que los valores deben ser positivos mayores a cero. Considere la creación de tablas de partición y valores límite (2 valores) para el correcto diseño de las pruebas.\n",
    "\n",
    "\n",
    "## Ejercicio 2.\n",
    "- ### Agregar una función que calcule el área de un triángulo. Agregar las pruebas unitarias y demostrar el uso con la creación de un triángulo y el cálculo de su área. Considerar datos tánto válidos como inválidos, implementar los tests.  \n",
    "\n",
    "- ### Para la clase Triangulo considere que los valores deben ser positivos mayores a cero. Considere la creación de tablas de partición y valores límite (2 valores) para el correcto diseño de las pruebas."
   ]
  },
  {
   "cell_type": "code",
   "execution_count": 3,
   "metadata": {},
   "outputs": [
    {
     "name": "stdout",
     "output_type": "stream",
     "text": [
      "inf\n"
     ]
    }
   ],
   "source": [
    "import sys\n",
    "\n",
    "valor = sys.float_info.max * sys.float_info.max\n",
    "print(valor)"
   ]
  },
  {
   "cell_type": "code",
   "execution_count": null,
   "metadata": {},
   "outputs": [],
   "source": []
  },
  {
   "cell_type": "code",
   "execution_count": null,
   "metadata": {},
   "outputs": [],
   "source": []
  },
  {
   "cell_type": "markdown",
   "metadata": {},
   "source": [
    "\n",
    "\n",
    "# <span style=\"color:#0485CF\"> Pruebas unitarias: Marcadores\n",
    "\n",
    " - ### https://docs.pytest.org"
   ]
  },
  {
   "cell_type": "markdown",
   "metadata": {},
   "source": [
    "## Uso de marcadores \n",
    "\n",
    "- ### Al utilizar pytest.mark, se puede  configurar metadatos en las funciones de prueba. \n",
    "\n",
    "- ### Los marcadores solo se pueden aplicar a los tests\n",
    "\n",
    "\n",
    "- ### Algunos marcadores:\n",
    "\n",
    "    - #### parametrize - realiza múltiples llamadas a la misma función de prueba.\n",
    "    - #### skip - omitir siempre una función de prueba\n",
    "    - #### skipif - omite una función de prueba si se cumple una determinada condición.\n",
    "    - #### xfail - produce un resultado de \"fallo esperado\" si se cumple una determinada condición​"
   ]
  },
  {
   "cell_type": "code",
   "execution_count": null,
   "metadata": {},
   "outputs": [],
   "source": [
    "# Contenido del archivo:  test_mark_users.py\n",
    "import pytest\n",
    "\n",
    "def get_user_info(user_id):\n",
    "\n",
    "    # Estos datos generalmente provienen de la Base de Datos o de una API\n",
    "    if user_id == 1:\n",
    "        return {'name': 'Luisa', 'age': 30}\n",
    "    elif user_id == 2:\n",
    "        return {'name': 'Pedro', 'age': 40}\n",
    "    elif user_id == 3:\n",
    "        return {'name': 'Juan', 'age': 50}\n",
    "    else:\n",
    "        return None\n",
    "\n",
    "# Se definen 4 diferentes tuplas, por lo que la función test_get_user_info, ejecutará 4 veces usando cada una de ellas en cada ejecución.\n",
    "# La parametrización define las variables que empatan con cada uno de los datos definidos en la lista que contiene a cada tupla de datos.\n",
    "# En este caso:\n",
    "#   user_id:  Es usado como un parámetro de control \n",
    "#   expected_name: Es el valor esperado definido por el nombre (expected_name),  para el registro indicado por el user_id\n",
    "#   expected_age: Es el valor esperado definido por la edad (expected_age)  para el registro indicado por el user_id\n",
    "\n",
    "@pytest.mark.parametrize(\"user_id, expected_name, expected_age\", [\n",
    "    (1, 'Luisa', 30),\n",
    "    (2, 'Pedro', 40),\n",
    "    (3, 'Juan', 50),\n",
    "    (4, None, None),\n",
    "])\n",
    "\n",
    "def test_get_user_info(user_id, expected_name, expected_age):\n",
    "    user_info = get_user_info(user_id)\n",
    "    if user_info is None:\n",
    "        assert user_info == expected_name\n",
    "    else:\n",
    "        assert user_info['name'] == expected_name\n",
    "        assert user_info['age'] == expected_age"
   ]
  },
  {
   "cell_type": "markdown",
   "metadata": {},
   "source": [
    "### Desde la terminal:\n",
    "### > pytest -v test_mark_users.py"
   ]
  },
  {
   "cell_type": "markdown",
   "metadata": {},
   "source": [
    "# <span style=\"color:#0485CF\"> Ejercicio: </span>\n",
    "\n",
    "### Crear las pruebas unitarias para las funciones:\n",
    "- ### Considere crear las tablas de partición y de valores límite (3 valores) para el correcto diseño de las pruebas\n",
    "\n",
    "\n",
    "- ### Función que calcule el factorial de un número y haga uso de varias pruebas como parámetros, al menos 4 elementos\n",
    "\n",
    "- ### Función que calcule el promedio de una lista de números y haga uso de varias pruebas como parámetros\n",
    "\n",
    "- ### Función que calcule el área de varios rectángulos como parámetros (hacer uso de la clase Rectangulo), al menos 4 elementos\n",
    "\n"
   ]
  },
  {
   "cell_type": "code",
   "execution_count": null,
   "metadata": {},
   "outputs": [],
   "source": []
  },
  {
   "cell_type": "code",
   "execution_count": null,
   "metadata": {},
   "outputs": [],
   "source": []
  },
  {
   "cell_type": "code",
   "execution_count": null,
   "metadata": {},
   "outputs": [],
   "source": []
  },
  {
   "cell_type": "code",
   "execution_count": null,
   "metadata": {},
   "outputs": [],
   "source": []
  },
  {
   "cell_type": "code",
   "execution_count": null,
   "metadata": {},
   "outputs": [],
   "source": []
  },
  {
   "cell_type": "markdown",
   "metadata": {},
   "source": [
    "\n",
    "\n",
    "# <span style=\"color:#0485CF\"> Pruebas unitarias: pytest, agrupando múltiples tests</span>\n",
    "\n",
    "\n",
    " - ### Por convención pytest busca funciones con el prefijo \"test\"\n",
    " \n",
    " - ### Las clases deben tener el prefijo \"Test\", de lo contrario la clase no se ejecutará \n",
    "\n",
    "\n",
    " - ### https://docs.pytest.org"
   ]
  },
  {
   "cell_type": "markdown",
   "metadata": {},
   "source": [
    "## Creando la clase TestEjemplo1.py\n"
   ]
  },
  {
   "cell_type": "markdown",
   "metadata": {},
   "source": [
    "### Crear el archivo test_clase_ejemplo1.py\n"
   ]
  },
  {
   "cell_type": "code",
   "execution_count": null,
   "metadata": {},
   "outputs": [],
   "source": [
    "# contenido test_clase_ejemplo1.py\n",
    "\n",
    "class TestEjemplo1:\n",
    "    def test_ejem1(self):\n",
    "        x = \"hola\"\n",
    "        assert \"h\" in x\n",
    "\n",
    "    def test_ejem2(self):\n",
    "        x = \"hello\"\n",
    "        assert isinstance(x, str) # revisa si el objeto es instancia de el tipo de dato srt"
   ]
  },
  {
   "cell_type": "markdown",
   "metadata": {},
   "source": [
    "## Ejecución del test, desde la terminal\n",
    "\n",
    "### pytest test_clase_ejemplo1.py\n",
    "\n",
    "<br/>\n",
    "<br/>\n",
    "<br/>"
   ]
  },
  {
   "cell_type": "code",
   "execution_count": null,
   "metadata": {},
   "outputs": [],
   "source": []
  },
  {
   "cell_type": "code",
   "execution_count": null,
   "metadata": {},
   "outputs": [],
   "source": []
  },
  {
   "cell_type": "markdown",
   "metadata": {},
   "source": [
    "# <span style=\"color:#0485CF\"> Ejercicio: </span>\n",
    "\n",
    "### Crear una clase de  pruebas unitarias que integre\n",
    "\n",
    "- ### El test para la función factorial, al menos 4 elementos.\n",
    "\n",
    "- ### El test para la comprobación del área de múltiples rectángulos, al menos 4 elementos.\n"
   ]
  },
  {
   "cell_type": "code",
   "execution_count": null,
   "metadata": {},
   "outputs": [],
   "source": []
  },
  {
   "cell_type": "code",
   "execution_count": null,
   "metadata": {},
   "outputs": [],
   "source": []
  },
  {
   "cell_type": "code",
   "execution_count": null,
   "metadata": {},
   "outputs": [],
   "source": []
  },
  {
   "cell_type": "markdown",
   "metadata": {},
   "source": [
    "\n",
    "\n",
    "# <span style=\"color:#0485CF\"> Pytest: Usando excepciones </span>\n",
    "\n",
    " - ### Errores detectados durante la ejecución son llamadas excepciones (Exceptions)\n",
    " \n",
    " - ### La mayoría de las excepciones no son administradas por los programas y pueden resultar en mensajes de error y detener la ejecución del programa. Un ejemplo es como en el siguiente,  una división por cero\n",
    "\n",
    "\n",
    "```python\n",
    " 10 * (1/0)\n",
    "Traceback (most recent call last):\n",
    "  File \"<stdin>\", line 1, in <module>\n",
    "ZeroDivisionError: division by zero\n",
    "\n",
    "```\n",
    "\n",
    "\n",
    "\n",
    " - ### https://docs.python.org/3/tutorial/errors.html\n",
    " "
   ]
  },
  {
   "cell_type": "markdown",
   "metadata": {},
   "source": [
    "### Ejemplo de la generación de una excepción incorporada de Python: ValueError\n",
    "#### La excepción se genera cuando ya sea que la base o altura de un rectángulo es negativa o cero, ya que no puede haber dimensiones negativas o cero para el cálculo del área de un rectángulo."
   ]
  },
  {
   "cell_type": "code",
   "execution_count": null,
   "metadata": {},
   "outputs": [],
   "source": [
    "# Contenido del archivo rectangulo.py\n",
    "\n",
    "def calcular_area_rectangulo(base, altura):\n",
    "    \"\"\"Calcula el área de un rectángulo\"\"\"\n",
    "    if base <= 0 or altura <= 0:\n",
    "        raise ValueError(\"La base y la altura deben ser valores positivos.\")\n",
    "    return base * altura\n",
    "\n"
   ]
  },
  {
   "cell_type": "markdown",
   "metadata": {},
   "source": [
    "### En Pytest, se verifica si la función está realizando las comprobaciones adecuadas para datos de entrada erróneos en las funciones de testing:  test_calcula_area_rectangulo_base_cero  y  test_calcula_area_rectangulo_base_negativa\n",
    "#### Al ejecutar el método calcular_area_rectangulo con datos de entrada incorrectos, se genera la excepción la cual comprueba pytest, pues es lo que se espera para esta entrada de datos. Lo que hace que la prueba se cumpla satisfactoriamente. "
   ]
  },
  {
   "cell_type": "code",
   "execution_count": null,
   "metadata": {},
   "outputs": [],
   "source": []
  },
  {
   "cell_type": "code",
   "execution_count": null,
   "metadata": {},
   "outputs": [],
   "source": [
    "# Contenido del archivo llamado test_rectangulo.py, escribimos las pruebas para la función calcular_area_rectangulo\n",
    "\n",
    "import pytest\n",
    "from rectangulo import calcular_area_rectangulo\n",
    "\n",
    "def test_calcula_area_rectangulo():\n",
    "    # Prueba para calcular el área de un rectángulo con base y altura positivas\n",
    "    assert calcular_area_rectangulo(5, 4) == 20\n",
    "\n",
    "def test_calcula_area_rectangulo_base_cero():\n",
    "    # Prueba para verificar que se genere una excepción cuando la base es cero\n",
    "    with pytest.raises(ValueError):\n",
    "        calcular_area_rectangulo(0, 4)\n",
    "\n",
    "def test_calcula_area_rectangulo_base_negativa():\n",
    "    # Prueba para verificar que se genere una excepción cuando la base es negativa\n",
    "    with pytest.raises(ValueError) as error:\n",
    "        calcular_area_rectangulo(-5, 4)\n",
    "    print(error)    \n",
    "    assert str(error.value) == 'La base y la altura deben ser valores positivos.'\n",
    "    \n"
   ]
  },
  {
   "cell_type": "markdown",
   "metadata": {},
   "source": [
    " ### usar el parámetro -s para imprimir los mensajes en pantalla\n",
    " pytest -sv test_rectangulo.py"
   ]
  },
  {
   "cell_type": "code",
   "execution_count": null,
   "metadata": {},
   "outputs": [],
   "source": []
  },
  {
   "cell_type": "markdown",
   "metadata": {},
   "source": [
    "# <span style=\"color:#0485CF\"> Ejercicio 1: </span>\n",
    "\n",
    "### Ejecutar las pruebas para el calculo del área del rectángulo, usando los códigos anteriores.\n",
    "\n",
    "- ### Una vez que las pruebas funcionen adecuadamente, incorporar los test para probrar datos para la altura, datos tanto válidos como inválidos. Considere las tablas de partición y valores límite para el diseño correcto de las pruebas.\n",
    "\n",
    "- ### Una vez que las pruebas funcionen adecuadamente, incorporar el test y los códigos fuentes al proyecto donde se tienen separados el código y el conjunto de test, en el paquete mi_paquete.\n"
   ]
  },
  {
   "cell_type": "code",
   "execution_count": null,
   "metadata": {},
   "outputs": [],
   "source": []
  },
  {
   "cell_type": "code",
   "execution_count": null,
   "metadata": {},
   "outputs": [],
   "source": []
  },
  {
   "cell_type": "markdown",
   "metadata": {},
   "source": [
    "# <span style=\"color:#0485CF\"> Ejercicio 2: </span>\n",
    "\n",
    "### Crear un conjunto de tests de  pruebas unitarias que haga uso de una clase Circulo que calcula el área y perímetro. Incluya  un método que pueda cambiar el radio del círculo.\n",
    "\n",
    "- ### Considere las tablas de partición y valores límite (3 valores) para el diseño correcto de las pruebas.\n",
    "\n",
    "- ### Realizar las validaciones correspondientes para los datos de entrada que identifique \n",
    "\n",
    "- ### Realizar los tests correspondientes que verifiquen tanto datos válidos como inválidos.\n",
    "\n",
    "- ### El código y los test deben estar separados para su adecuada administración\n",
    "\n"
   ]
  },
  {
   "cell_type": "code",
   "execution_count": null,
   "metadata": {},
   "outputs": [],
   "source": []
  },
  {
   "cell_type": "code",
   "execution_count": null,
   "metadata": {},
   "outputs": [],
   "source": []
  },
  {
   "cell_type": "code",
   "execution_count": null,
   "metadata": {},
   "outputs": [],
   "source": []
  },
  {
   "cell_type": "code",
   "execution_count": null,
   "metadata": {},
   "outputs": [],
   "source": []
  },
  {
   "cell_type": "markdown",
   "metadata": {},
   "source": [
    "\n",
    "# <span style=\"color:#0485CF\"> Creando excepciones personalizadas </span>\n",
    " \n",
    "\n",
    "- #### Para crear excepciones personalizadas en Python, se tiene que heredar de alguna clase que herede de BaseException, se recomienda heredar de la clase Exception\n",
    "\n",
    "#### Clase Exception\n",
    "https://docs.python.org/3/library/exceptions.html#exception-hierarchy\n"
   ]
  },
  {
   "cell_type": "code",
   "execution_count": null,
   "metadata": {},
   "outputs": [],
   "source": []
  },
  {
   "cell_type": "markdown",
   "metadata": {},
   "source": [
    "### **Ejemplo para personalizar una excepción heredando de la clase Exception**\n",
    "- #### La excepción se genera al ejecutar el método func_mi_exception \n",
    "- #### Pytest verifica en el test test_func_mi_exception que se haya generado una excepción del tipo \"Mi_Excepcion\""
   ]
  },
  {
   "cell_type": "code",
   "execution_count": 1,
   "metadata": {},
   "outputs": [],
   "source": [
    "# Contenido del archivo llamado test_exception.py\n",
    "\n",
    "import pytest\n",
    "\n",
    "class Mi_Excepcion(Exception):\n",
    "    \"\"\"Excepción que se quiere personalizar\"\"\"\n",
    "    pass\n",
    "\n",
    "def func_mi_exception():\n",
    "    raise Mi_Excepcion(\"Excepción lanzada\")\n",
    "\n",
    "def test_func_mi_exception():\n",
    "    with pytest.raises(Mi_Excepcion) as execinfo:\n",
    "        func_mi_exception()\n",
    "    print(execinfo)\n",
    "    assert str(execinfo.value) == \"Excepción lanzada\""
   ]
  },
  {
   "cell_type": "code",
   "execution_count": null,
   "metadata": {},
   "outputs": [],
   "source": []
  },
  {
   "cell_type": "markdown",
   "metadata": {},
   "source": [
    "### **Ejemplo para personalizar una excepción usando el cálculo del area del tríangulo**\n",
    "- #### Se crea una excepción personalizada llamada RectanguloException para generarla cuando se presenten datos inválidos en el proceso\n",
    "- #### La excepción se genera cuando la base o la altura son datos inválidos, en este caso, valores negativos o cero\n"
   ]
  },
  {
   "cell_type": "code",
   "execution_count": null,
   "metadata": {},
   "outputs": [],
   "source": [
    "# Contenido del archivo llamado rectangulo_exec.py\n",
    "\n",
    "\n",
    "class RectanguloException(Exception):\n",
    "    \"\"\"Excepción que se quiere personalizar\"\"\"\n",
    "    pass\n",
    "\n",
    "def calcular_area_rectangulo(base, altura):\n",
    "    \"\"\"Calcula el área de un rectángulo\"\"\"\n",
    "    if base <= 0 or altura <= 0:\n",
    "        raise RectanguloException(\"La base y la altura deben ser valores positivos.\")\n",
    "    return base * altura\n"
   ]
  },
  {
   "cell_type": "code",
   "execution_count": null,
   "metadata": {},
   "outputs": [],
   "source": []
  },
  {
   "cell_type": "markdown",
   "metadata": {},
   "source": [
    "### **Ejemplo para la verificación de los tests administrando las excepciones**\n",
    "- #### Se importan los métodos y la clase RectanguloException\n",
    "- #### Los tests test_calcula_area_rectangulo_base_cero y test_calcula_area_rectangulo_base_negativa compruebas que se haya generado la excepción RectanguloException cuando los datos son inválidos\n"
   ]
  },
  {
   "cell_type": "code",
   "execution_count": null,
   "metadata": {},
   "outputs": [],
   "source": [
    "\n",
    "# Contenido del archivo llamado test_rectangulo_exec.py\n",
    "\n",
    "import pytest\n",
    "from rectangulo_exec import calcular_area_rectangulo, RectanguloException\n",
    "\n",
    "def test_calcula_area_rectangulo():\n",
    "    # Prueba para calcular el área de un rectángulo con base y altura positivas\n",
    "    assert calcular_area_rectangulo(5, 4) == 20\n",
    "\n",
    "def test_calcula_area_rectangulo_base_cero():\n",
    "    # Prueba para verificar que se genere una excepción cuando la base es cero\n",
    "    with pytest.raises(RectanguloException):\n",
    "        calcular_area_rectangulo(0, 4)\n",
    "\n",
    "def test_calcula_area_rectangulo_base_negativa():\n",
    "    # Prueba para verificar que se genere una excepción cuando la base es negativa\n",
    "    with pytest.raises(RectanguloException) as error:\n",
    "        calcular_area_rectangulo(-5, 4)\n",
    "\n",
    "    # Además de probar que se genere una excepción cuando la base es negativa, prueba que el mensaje sea como el esperado (expected_msj). \n",
    "    print(error)    \n",
    "    expected_msj = 'La base y la altura deben ser valores positivos.'\n",
    "    assert str(error.value) == expected_msj\n",
    "    \n"
   ]
  },
  {
   "cell_type": "code",
   "execution_count": null,
   "metadata": {},
   "outputs": [],
   "source": []
  },
  {
   "cell_type": "code",
   "execution_count": null,
   "metadata": {},
   "outputs": [],
   "source": []
  },
  {
   "cell_type": "markdown",
   "metadata": {},
   "source": [
    "# <span style=\"color:#0485CF\"> Ejercicio 1: </span>\n",
    "\n",
    "### Ejecutar las pruebas para el cálculo del área del rectángulo y el uso de excepciones, usando los códigos anteriores.\n",
    "\n",
    "\n",
    "- ###  Considere las tablas de partición y valores límite para el diseño correcto de las pruebas.\n",
    "\n",
    "- ### Una vez que las pruebas funcionen adecuadamente, incorporar los test para probrar datos para la altura, datos tanto válidos como inválidos.\n",
    "\n",
    "- ### Una vez que las pruebas funcionen adecuadamente, incorporar el test y los códigos fuentes al proyecto donde se tienen separados el código y el conjunto de test\n"
   ]
  },
  {
   "cell_type": "code",
   "execution_count": null,
   "metadata": {},
   "outputs": [],
   "source": []
  },
  {
   "cell_type": "code",
   "execution_count": null,
   "metadata": {},
   "outputs": [],
   "source": []
  },
  {
   "cell_type": "code",
   "execution_count": null,
   "metadata": {},
   "outputs": [],
   "source": []
  },
  {
   "cell_type": "markdown",
   "metadata": {},
   "source": [
    "# <span style=\"color:#0485CF\"> Ejercicio 2: </span>\n",
    "\n",
    "### Crear un conjunto de tests de  pruebas unitarias que haga uso de una clase Circulo que calcula el área y perímetro y haga uso de excepciones (CirculoException). Incluya  un método que pueda cambiar el radio del círculo y haga el uso de las excepciones.\n",
    "\n",
    "- ###  Considere las tablas de partición y valores límite para el diseño correcto de las pruebas.\n",
    "\n",
    "- ### Realizar las validaciones correspondientes para los datos de entrada que identifique \n",
    "\n",
    "- ### Realizar los tests correspondientes que verifiquen tanto datos válidos como inválidos.\n",
    "\n",
    "- ### El código y los test deben estar separados para su adecuada administración\n",
    "\n"
   ]
  },
  {
   "cell_type": "code",
   "execution_count": null,
   "metadata": {},
   "outputs": [],
   "source": []
  },
  {
   "cell_type": "code",
   "execution_count": null,
   "metadata": {},
   "outputs": [],
   "source": []
  },
  {
   "cell_type": "code",
   "execution_count": null,
   "metadata": {},
   "outputs": [],
   "source": []
  },
  {
   "cell_type": "markdown",
   "metadata": {},
   "source": [
    "# <span style=\"color:#0485CF\"> Ejercicio 3: </span>\n",
    "\n",
    "### Crear un conjunto de tests de  pruebas unitarias que haga uso de la clase Calculadora y pruebe todos los métodos propuestos para dicha clase, incluyendo las excepciones.  Considere las tablas de partición y valores límite para el diseño correcto de las pruebas.\n",
    "\n",
    "### 1. Las pruebas unitarias deben estar separadas en un paquete de fuentes y otro de tests\n",
    "### 2. Implemente las pruebas unitarias para todos los métodos incluyendo las excepciones indicadas. Generar las pruebas para datos válidos así como inválidos de acuerdo al dominio de aplicación.\n",
    "### 3. Modifique el programa para crear una excepción propia llamada CalculadoraException para las divisiones por cero. Generar el test correspondiente.\n",
    "\n",
    "\n",
    "```python\n",
    "# En este archivo llamado calculadora.py, definimos la clase de la calculadora\n",
    "\n",
    "class Calculadora:\n",
    "    def __init__(self):\n",
    "        self.resultado = 0\n",
    "\n",
    "    def sumar(self, num):\n",
    "        self.resultado += num\n",
    "\n",
    "    def restar(self, num):\n",
    "        self.resultado -= num\n",
    "\n",
    "    def multiplicar(self, num):\n",
    "        self.resultado *= num\n",
    "\n",
    "    def dividir(self, num):\n",
    "        if num == 0:\n",
    "            raise ValueError(\"No se puede dividir por cero.\")\n",
    "        self.resultado /= num\n",
    "\n",
    "```\n"
   ]
  }
 ],
 "metadata": {
  "kernelspec": {
   "display_name": "Python 3",
   "language": "python",
   "name": "python3"
  },
  "language_info": {
   "codemirror_mode": {
    "name": "ipython",
    "version": 3
   },
   "file_extension": ".py",
   "mimetype": "text/x-python",
   "name": "python",
   "nbconvert_exporter": "python",
   "pygments_lexer": "ipython3",
   "version": "3.13.2"
  }
 },
 "nbformat": 4,
 "nbformat_minor": 2
}
