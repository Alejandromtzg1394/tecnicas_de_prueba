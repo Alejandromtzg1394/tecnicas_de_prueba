{
 "cells": [
  {
   "cell_type": "markdown",
   "metadata": {},
   "source": [
    "## Cobertura con Python\n",
    "\n",
    "- **Python**: `Pytest-cov`, `Coverage` (free)  \n",
    "  🔗 [https://pypi.org/project/pytest-cov/](https://pypi.org/project/pytest-cov/)  \n",
    "  🔗 [https://coverage.readthedocs.io](https://coverage.readthedocs.io)\n",
    "\n",
    "- `Coverage` es una herramienta para medir la cobertura del código de programas Python\n",
    "- Supervisa el programa bajo inspección:\n",
    "  - Observa qué partes del código se han ejecutado\n",
    "  - Analiza la fuente para identificar el código que podría haberse ejecutado pero no se ejecutó\n",
    "\n",
    "- La medición de la cobertura se utiliza para medir la eficacia de las pruebas\n",
    "- Puede mostrar qué partes de su código están siendo ejercidas por las pruebas y cuáles no.\n",
    "\n",
    "- `Pytest-cov` es un plug-in que produce informes de cobertura del código de programas Python, usa `Coverage`\n",
    "- Tiene soporte de subprocesos y pruebas distribuidas\n",
    "\n",
    "---\n",
    "\n",
    "## Instalación\n",
    "\n",
    "- `pip install pytest-cov`\n",
    "\n",
    "- `*Coverage` se instala como dependencia de pytest-cov\n",
    "\n",
    "---\n",
    "\n",
    "## Ejecución\n",
    "\n",
    "```python\n",
    "pytest -sv --cov=[directorio_fuentes] [directorio_tests]\n",
    "\n",
    "pytest -sv --cov=app_web tests\n",
    "\n",
    "\n",
    "donde:\n",
    "\n",
    "    app_web - directorio de los archivos fuente, para identificar la cobertura\n",
    "    tests - directorio donde se encuentran los tests \n",
    "    html:reporte  -  formato y directorio de salida\n",
    "\n",
    "\n",
    "```"
   ]
  },
  {
   "cell_type": "markdown",
   "metadata": {},
   "source": [
    "#  Ejercicio de cobertura\n",
    "\n",
    " - ### Dado el siguiente código, generar los reportes de cobertura de código\n",
    " - ### Escriba los tests de manera incremental, es decir, \n",
    "    ####  1) Escriba un  caso de prueba y ejecutar  la métrica de cobertura.\n",
    "    ####  2) Verificar los resultados de la cobertura en los archivos html resultantes. \n",
    "    #### 3) Agregar el siguiente caso, y ejecutar  la métrica de cobertura, y así sucesivamente\n",
    "\n",
    " - ### usar pytest-cov como herramienta de cobertura de código\n"
   ]
  },
  {
   "cell_type": "markdown",
   "metadata": {},
   "source": [
    "##  Organizar el proyecto\n",
    "\n",
    " - ## Crear una carpeta proy_cobertura y dos subcarpetas src y tests.\n",
    " \n",
    " ### Estructura recomendada:\n",
    "\n",
    " ```:\n",
    "proy_cobertura/\n",
    "├── src/\n",
    "    ├── __init__.py\n",
    "    ├── factorial.py\n",
    "├── tests/\n",
    "    ├── __init__.py\n",
    "    ├── test_factorial.py\n",
    "\n",
    "```\n",
    "<br/>\n",
    "<br/>\n",
    "\n"
   ]
  },
  {
   "cell_type": "code",
   "execution_count": null,
   "metadata": {},
   "outputs": [],
   "source": [
    "# Código para identicar el porcentaje de cobetura\n",
    "# factorial.py\n",
    "\n",
    "def factorial(n):\n",
    "    if n == 0:\n",
    "        return 1\n",
    "    elif n < 0:\n",
    "        return None\n",
    "    else:\n",
    "        result = 1\n",
    "        for i in range(1, n + 1):\n",
    "            result *= i\n",
    "        return result "
   ]
  },
  {
   "cell_type": "markdown",
   "metadata": {},
   "source": [
    "## Ejemplo de formato para la ejecución de la cobertura\n",
    "\n",
    "### pytest   &nbsp; &nbsp;  --cov=[DIRECTORIO ARCHIVOS FUENTE]   &nbsp; &nbsp; --cov-report=html:[DIRECTORIO SALIDA DEL REPORTE]  &nbsp; &nbsp; [DIRECTORIO DE TESTS]  "
   ]
  }
 ],
 "metadata": {
  "kernelspec": {
   "display_name": "TPS",
   "language": "python",
   "name": "python3"
  },
  "language_info": {
   "codemirror_mode": {
    "name": "ipython",
    "version": 3
   },
   "file_extension": ".py",
   "mimetype": "text/x-python",
   "name": "python",
   "nbconvert_exporter": "python",
   "pygments_lexer": "ipython3",
   "version": "3.13.1"
  }
 },
 "nbformat": 4,
 "nbformat_minor": 2
}
