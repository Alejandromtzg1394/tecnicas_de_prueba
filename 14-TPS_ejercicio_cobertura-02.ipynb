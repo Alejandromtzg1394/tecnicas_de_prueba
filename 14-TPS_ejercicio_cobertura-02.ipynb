{
 "cells": [
  {
   "cell_type": "markdown",
   "metadata": {},
   "source": [
    "## Cobertura con Python\n",
    "\n",
    "## Ejecución para métricas de cobertura\n",
    "\n",
    "```python\n",
    "\n",
    "Sintaxis:\n",
    "\n",
    "pytest -sv --cov=[directorio_fuentes] [directorio_tests] \n",
    "\n",
    "\n",
    "\n",
    "Ejemplo:\n",
    "\n",
    "pytest -sv --cov=app_web tests\n",
    "\n",
    "\n",
    "\n",
    "donde:\n",
    "\n",
    "    app_web - directorio de los archivos fuente, para identificar la cobertura\n",
    "    tests - directorio donde se encuentran los tests \n",
    "\n",
    "\n",
    "```\n",
    "\n",
    "## Ejecución con generación del reporte en HTML\n",
    "\n",
    "```python\n",
    "\n",
    "Sintaxis:\n",
    "\n",
    "pytest -sv --cov=[directorio_fuentes] --cov-report=[FORMATO]:[directorio_salida] [directorio_tests] \n",
    "\n",
    "\n",
    "\n",
    "Ejemplo:\n",
    "\n",
    "pytest -sv --cov=app_web --cov-report=html:reporte tests\n",
    "\n",
    "\n",
    "\n",
    "\n",
    "donde:\n",
    "\n",
    "    app_web  - directorio de los archivos fuente, para identificar la cobertura\n",
    "    tests    - directorio donde se encuentran los tests \n",
    "    html     - formato de salida\n",
    "    reporte  - directorio de salida para los archivos generados\n",
    "\n",
    "\n",
    "```"
   ]
  },
  {
   "cell_type": "markdown",
   "metadata": {},
   "source": [
    "#  Ejercicio de cobertura\n",
    "\n",
    " - ### Dado el siguiente código, generar los reportes de cobertura de código\n",
    " - ### Escriba los tests las pruebas automáticas (tests) para los siguientes casos: \n",
    "    ####  1) Implementar las pruebas para la cobertura de sentencias y cobertura de ramas \n",
    "    #### 2) Ejecutar la cobertura del código, usar pytest-cov como herramienta de cobertura de código\n",
    "    ####  3) Analizar las particiones de equivalencia y valores límite presentes en el código y complementar las pruebas si son necesarias de acuerdo a estos análisis\n"
   ]
  },
  {
   "cell_type": "markdown",
   "metadata": {},
   "source": [
    "##  Organizar el proyecto\n",
    "\n",
    " - ### Crear una carpeta proy_calc_descuentos y dos subcarpetas src y tests.\n",
    " - ### Para ejecutar la cobertura, se debe posicionar en el directorio $proy\\_calc\\_descuentos$ puesto que con $pytest$ se indica el directorio de los programas fuente ($src$) y el directorio que contiene las pruebas ($tests$) y los busca desde el punto donde se ejecuta el comando.\n",
    " \n",
    " ### Estructura recomendada:\n",
    "\n",
    " ```:\n",
    "proy_usuarios/\n",
    "├── src/\n",
    "    ├── __init__.py\n",
    "    ├── calc_descuentos.py\n",
    "├── tests/\n",
    "    ├── __init__.py\n",
    "    ├── test_calc_descuentos.py\n",
    "\n",
    "```\n",
    "<br/>\n",
    "<br/>\n",
    "\n"
   ]
  },
  {
   "cell_type": "code",
   "execution_count": null,
   "metadata": {},
   "outputs": [],
   "source": [
    "class DescuentoError(Exception):\n",
    "    \"\"\"Clase base para errores en el cálculo de descuentos\"\"\"\n",
    "    pass\n",
    "\n",
    "class EdadInvalidaError(DescuentoError):\n",
    "    \"\"\"Excepción para edades no válidas\"\"\"\n",
    "    def __init__(self, edad):\n",
    "        super().__init__(f\"Edad inválida. Debe ser entero positivo\")\n",
    "\n",
    "class TipoEstudianteInvalidoError(DescuentoError):\n",
    "    \"\"\"Excepción para tipo de estudiante no válido\"\"\"\n",
    "    def __init__(self):\n",
    "        super().__init__(\"El parámetro 'es_estudiante' debe ser booleano\")\n",
    "\n",
    "class CalculadoraDescuentos:\n",
    "    def __init__(self):\n",
    "        self.descuentos = {\n",
    "            'joven': 25,\n",
    "            'estudiante': 15,\n",
    "            'senior': 10\n",
    "        }\n",
    "    \n",
    "    def validar_entradas(self, edad, es_estudiante):\n",
    "        \"\"\"Valida los tipos y valores de los parámetros\"\"\"\n",
    "        if not isinstance(edad, int):\n",
    "            raise EdadInvalidaError(edad)\n",
    "        if edad <= 14:\n",
    "            raise EdadInvalidaError(edad)\n",
    "        if not isinstance(es_estudiante, bool):\n",
    "            raise TipoEstudianteInvalidoError()\n",
    "    \n",
    "    def aplicar_descuento(self, edad, es_estudiante=False):\n",
    "        \"\"\"\n",
    "        Calcula el descuento aplicable\n",
    "        \n",
    "        Parámetros:\n",
    "            edad (int): Edad del cliente (debe ser > 0)\n",
    "            es_estudiante (bool): Indica si es estudiante\n",
    "            \n",
    "        Valor de retorno:\n",
    "            int: Porcentaje de descuento\n",
    "            \n",
    "        Raises:\n",
    "            EdadInvalidaError: Si la edad no es válida\n",
    "            TipoEstudianteInvalidoError: Si el tipo no es booleano\n",
    "            DescuentoError: Error inesperado\n",
    "        \"\"\"\n",
    "        self.validar_entradas(edad, es_estudiante)\n",
    "        \n",
    "        try:\n",
    "            if edad < 18:\n",
    "                return self.descuentos['joven']\n",
    "            elif es_estudiante and 18 <= edad <= 65:\n",
    "                return self.descuentos['estudiante']\n",
    "            elif edad > 65:\n",
    "                return self.descuentos['senior']\n",
    "            return 0\n",
    "        except Exception as e:\n",
    "            raise DescuentoError(f\"Error inesperado: {str(e)}\")"
   ]
  },
  {
   "cell_type": "markdown",
   "metadata": {},
   "source": [
    "# Ejemplo de uso"
   ]
  },
  {
   "cell_type": "code",
   "execution_count": 40,
   "metadata": {},
   "outputs": [
    {
     "name": "stdout",
     "output_type": "stream",
     "text": [
      "15\n",
      "10\n"
     ]
    }
   ],
   "source": [
    "# Ejemplo de uso\n",
    "calc = CalculadoraDescuentos()\n",
    "print(calc.aplicar_descuento(18, es_estudiante=True))  # 15\n",
    "print(calc.aplicar_descuento(70))        # 10"
   ]
  },
  {
   "cell_type": "code",
   "execution_count": 36,
   "metadata": {},
   "outputs": [
    {
     "name": "stdout",
     "output_type": "stream",
     "text": [
      "Edad inválida. Debe ser entero positivo\n"
     ]
    }
   ],
   "source": [
    "# Ejemplo de uso\n",
    "try:\n",
    "    calc = CalculadoraDescuentos()\n",
    "    print(calc.aplicar_descuento(\"30\"))      # Lanza excepción\n",
    "except DescuentoError as e:\n",
    "    print(f\"{e}\")\n"
   ]
  }
 ],
 "metadata": {
  "kernelspec": {
   "display_name": "TPS",
   "language": "python",
   "name": "python3"
  },
  "language_info": {
   "codemirror_mode": {
    "name": "ipython",
    "version": 3
   },
   "file_extension": ".py",
   "mimetype": "text/x-python",
   "name": "python",
   "nbconvert_exporter": "python",
   "pygments_lexer": "ipython3",
   "version": "3.13.1"
  }
 },
 "nbformat": 4,
 "nbformat_minor": 2
}
