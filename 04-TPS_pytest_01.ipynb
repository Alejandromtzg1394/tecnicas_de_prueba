{
 "cells": [
  {
   "cell_type": "markdown",
   "metadata": {},
   "source": [
    "# 📌 Pruebas Unitarias\n",
    "\n",
    "- ### Las pruebas unitarias son un tipo de prueba de software en la que se evalúan de manera aislada las partes más pequeñas e independientes de un programa, generalmente funciones o métodos individuales. \n",
    "- ### Su objetivo es verificar que cada unidad de código funcione correctamente según lo esperado.\n",
    "\n",
    "## Características de las pruebas unitarias\n",
    "\n",
    "- ### Prueban una sola unidad de código (por ejemplo, una función o método).\n",
    "- ### Son automatizables, lo que facilita su ejecución frecuente.\n",
    "- ### Deben ser rápidas, ya que se ejecutan muchas veces durante el desarrollo.\n",
    "- ### Aseguran la corrección del código antes de integrarlo con otras partes del sistema.\n"
   ]
  },
  {
   "cell_type": "code",
   "execution_count": null,
   "metadata": {},
   "outputs": [],
   "source": []
  },
  {
   "cell_type": "markdown",
   "metadata": {},
   "source": [
    "# 📌 Frameworks para Pruebas Unitarias\n",
    "\n",
    "### Existen varios **frameworks para pruebas unitarias**, dependiendo del lenguaje de programación que se utiliza\n",
    "\n",
    "---\n",
    "\n",
    "##  **Para Python**\n",
    "### 🔹 [`unittest`](htt*ps://docs.python.org/3/library/unittest.html) (incluido en la biblioteca estándar)\n",
    "- ### Inspirado en JUnit (de Java).\n",
    "- ### Basado en clases y métodos como `self.assertEqual()`.\n",
    "\n",
    "### 🔹 [`pytest`](https://pytest.org/)\n",
    "- ### Más flexible que `unittest`.\n",
    "- ### No requiere clases, usa funciones y `assert`.\n",
    "- ### Se ejecuta con `pytest` en la terminal.\n",
    "\n",
    "---\n",
    "\n",
    "##  **Para Java**\n",
    "### 🔹 [`JUnit`](https://junit.org/)\n",
    "- ### El estándar de facto para pruebas unitarias en Java.\n",
    "- ### Usa anotaciones como `@Test` y `assertEquals()`.\n",
    "\n",
    "### 🔹 [`TestNG`](https://testng.org/)\n",
    "- ### Similar a JUnit pero con más funcionalidades como dependencias entre pruebas.\n",
    "\n",
    "---\n",
    "\n",
    "## **Para JavaScript**\n",
    "### 🔹 [`Jest`](https://jestjs.io/)\n",
    "- ### Jest es un marco de pruebas de JavaScript centrado en la simplicidad.\n",
    "- ### Fácil configuración y soporte para `mocking`.\n",
    "\n",
    "### 🔹 [`Mocha`](https://mochajs.org/) + [`Chai`](https://www.chaijs.com/)\n",
    "- ### Mocha es un framework de pruebas y Chai es una biblioteca de aserciones (`expect()`).\n",
    "- ### Flexible, pero necesita configuración manual.\n",
    "\n",
    "---\n",
    "\n",
    "## **Para C++**\n",
    "### 🔹 [`Google Test (gtest)`](https://github.com/google/googletest)\n",
    "- ### GoogleTest es un marco de pruebas desarrollado por Google.\n",
    "- ### Admite cualquier tipo de pruebas, no solo pruebas unitarias.\n",
    "- ### Compatible con CMake y frameworks de integración continua.\n",
    "\n",
    "---\n",
    "\n",
    "\n",
    "## **✅ ¿Cuál elegir?**\n",
    "### 🔹 **Para Python:** `pytest` (fácil de usar).  \n",
    "### 🔹 **Para Java:** `JUnit` (el estándar).  \n",
    "### 🔹 **Para JavaScript:** `Jest` (rápido para React) o `Mocha`+`Chai` (más configurable).  \n",
    "### 🔹 **Para C++:** `Google Test`.  \n"
   ]
  },
  {
   "cell_type": "code",
   "execution_count": null,
   "metadata": {},
   "outputs": [],
   "source": []
  },
  {
   "cell_type": "code",
   "execution_count": null,
   "metadata": {},
   "outputs": [],
   "source": []
  },
  {
   "cell_type": "code",
   "execution_count": null,
   "metadata": {},
   "outputs": [],
   "source": []
  },
  {
   "cell_type": "code",
   "execution_count": null,
   "metadata": {},
   "outputs": [],
   "source": []
  },
  {
   "cell_type": "markdown",
   "metadata": {},
   "source": [
    "\n",
    "\n",
    "# 📌 <span style=\"color:white\"> Pruebas unitarias: pytest </span>\n",
    "\n",
    "\n",
    " - ### Framework para crear pruebas compactas y legibles\n",
    " \n",
    " - ### Puede escalar para soportar testing funcional complejo para aplicaciones y bibliotecas\n",
    "\n",
    "\n",
    " - ### https://docs.pytest.org"
   ]
  },
  {
   "cell_type": "markdown",
   "metadata": {},
   "source": [
    "## Instalación de pytest:\n",
    "\n",
    "####  Desde la terminal\n",
    "#### En el caso de Windows, usar la terminal \"Anaconda Prompt\" ubicada en la carpeta de la instalación de Anaconda\n"
   ]
  },
  {
   "cell_type": "code",
   "execution_count": null,
   "metadata": {},
   "outputs": [],
   "source": [
    "pip install -U pytest"
   ]
  },
  {
   "cell_type": "markdown",
   "metadata": {},
   "source": [
    "## Creando el primer test con PyTest\n",
    "\n",
    "- ### pytest ejecutará todos los archivos de pruebas (*.py) que empiezan con \"test_*.py\",  pytest ejecutará automáticamente  los tests con el prefijo \"test_\" o que finalicen \"*_test.py\" en el directorio actual y sus subdirectorios\n",
    "\n",
    "- ### La función que deseamos probar debe empezar con \"test\"\n",
    "\n",
    "- ### pytest ejecutará automáticamente  los tests (funciones) que inicien con el prefijo \"test\"\n",
    "\n",
    "\n",
    "- ### Se puede usar la sentencia \"assert\" para verificar las expectativas de la prueba\n",
    "\n",
    "\n"
   ]
  },
  {
   "cell_type": "markdown",
   "metadata": {},
   "source": [
    "### Crear el archivo test_ejemplo1.py\n"
   ]
  },
  {
   "cell_type": "code",
   "execution_count": 1,
   "metadata": {},
   "outputs": [],
   "source": [
    "# contenido test_ejemplo1.py\n",
    "\n",
    "def func(x):\n",
    "    return x + 1\n",
    "\n",
    "\n",
    "def test_respuesta():\n",
    "    valor_esperado = 5\n",
    "    assert func(3) == valor_esperado"
   ]
  },
  {
   "cell_type": "markdown",
   "metadata": {},
   "source": [
    "## Ejecución del test desde la terminal\n",
    "\n",
    "### $ pytest test_ejemplo1.py\n",
    "\n",
    "<br/>\n",
    "<br/>\n",
    "<br/>\n",
    "\n",
    "<img src=\"figs/fig_test1.png\" width=\"1200\">"
   ]
  },
  {
   "cell_type": "code",
   "execution_count": null,
   "metadata": {},
   "outputs": [],
   "source": []
  },
  {
   "cell_type": "code",
   "execution_count": null,
   "metadata": {},
   "outputs": [],
   "source": []
  },
  {
   "cell_type": "code",
   "execution_count": null,
   "metadata": {},
   "outputs": [],
   "source": []
  },
  {
   "cell_type": "markdown",
   "metadata": {},
   "source": [
    "## Ejemplo2 \n"
   ]
  },
  {
   "cell_type": "code",
   "execution_count": 2,
   "metadata": {},
   "outputs": [],
   "source": [
    "# contenido test_ejemplo2.py\n",
    "\n",
    "def func(x):\n",
    "    return x + 1\n",
    "\n",
    "\n",
    "def sumatoria(lista):\n",
    "    s = 0\n",
    "    for l in lista:\n",
    "        s +=l\n",
    "    return s\n",
    "\n",
    "def test_respuesta():\n",
    "    valor_esperado = 5\n",
    "    assert func(3) == valor_esperado\n",
    "\n",
    "\n",
    "def test_sumatoria():\n",
    "    valor_esperado = 6\n",
    "    assert sumatoria([1,2,3]) == valor_esperado\n",
    "    "
   ]
  },
  {
   "cell_type": "markdown",
   "metadata": {},
   "source": [
    "## Ejecución del test2\n",
    "\n",
    "### pytest test_ejemplo2.py\n",
    "\n",
    "<br/>\n",
    "<br/>\n",
    "<br/>\n",
    "\n",
    "<img src=\"figs/fig_test2.png\" width=\"1200\">"
   ]
  },
  {
   "cell_type": "code",
   "execution_count": null,
   "metadata": {},
   "outputs": [],
   "source": []
  },
  {
   "cell_type": "code",
   "execution_count": null,
   "metadata": {},
   "outputs": [],
   "source": []
  },
  {
   "cell_type": "markdown",
   "metadata": {},
   "source": [
    "# <span style=\"color:#0485CF\"> Ejercicio: </span>\n",
    "\n",
    "### Crear las pruebas unitarias para dos funciones\n",
    "\n",
    "- ### Función que calcule el factorial de un número\n",
    "\n",
    "- ### Función que calcule el promedio de una lista de números\n"
   ]
  },
  {
   "cell_type": "code",
   "execution_count": null,
   "metadata": {},
   "outputs": [],
   "source": []
  },
  {
   "cell_type": "code",
   "execution_count": null,
   "metadata": {},
   "outputs": [],
   "source": []
  },
  {
   "cell_type": "code",
   "execution_count": null,
   "metadata": {},
   "outputs": [],
   "source": []
  },
  {
   "cell_type": "code",
   "execution_count": null,
   "metadata": {},
   "outputs": [],
   "source": []
  },
  {
   "cell_type": "markdown",
   "metadata": {},
   "source": [
    "## Ejecución de múltiples test\n",
    "\n",
    "###  PyTest ejecutará todos los archivos de la forma test_*.py o *_test.py en el directorio actual y en los subdirectorios\n",
    "\n",
    "### $ pytest \n",
    "\n",
    "<br/>\n",
    "<br/>\n",
    "<br/>\n",
    "\n",
    "<img src=\"figs/fig_test3.png\" width=\"1200\">"
   ]
  },
  {
   "cell_type": "code",
   "execution_count": null,
   "metadata": {},
   "outputs": [],
   "source": []
  },
  {
   "cell_type": "markdown",
   "metadata": {},
   "source": [
    "# Pruebas fuera del código de la aplicación\n",
    "\n",
    "- ### Se recomienda colocar los tests en un directorio fuera del código de la aplicación. \n",
    "- ### Esto con el fin de mantener separadas las pruebas del código de aplicación.\n",
    "\n",
    "<br/>\n",
    "<br/>\n",
    "<br/>\n",
    "\n",
    "### Estructura recomendada:\n",
    "\n",
    " ```:\n",
    "src/\n",
    "├── mypkg/\n",
    "    ├── __init__.py\n",
    "    ├── app.py\n",
    "    ├── view.py\n",
    "tests/\n",
    "    ├── test_app.py\n",
    "    ├── test_view.py\n",
    "    ├── ...\n",
    "```\n",
    "<br/>\n",
    "<br/>\n",
    "\n",
    "\n",
    "### Para crear un paquete se requiere agregar el archivo \"\\_\\_init\\_\\_.py\" al directorio que contiene el paquete\n",
    "```\n",
    "mi_paquete/\n",
    "├── __init__.py\n",
    "├── modulo1.py\n",
    "├── modulo2.py\n",
    "└── subpaquete/\n",
    "    ├── __init__.py\n",
    "    └── modulo3.py\n",
    "```\n"
   ]
  },
  {
   "cell_type": "code",
   "execution_count": null,
   "metadata": {},
   "outputs": [],
   "source": []
  },
  {
   "cell_type": "code",
   "execution_count": null,
   "metadata": {},
   "outputs": [],
   "source": []
  },
  {
   "cell_type": "markdown",
   "metadata": {},
   "source": [
    "# Creación del paquete y funciones de prueba\n",
    "\n",
    "<br/>\n",
    "\n",
    "### Estructura:\n",
    "\n",
    " ```:\n",
    "proyecto\n",
    "   ├── mi_paquete/\n",
    "   |    ├── __init__.py\n",
    "   |    ├── mis_funciones.py\n",
    "   ├── tests/\n",
    "   |    ├── __init__.py\n",
    "        ├── test_funciones.py\n",
    "```\n",
    "<br/>\n",
    "<br/>\n"
   ]
  },
  {
   "cell_type": "code",
   "execution_count": 7,
   "metadata": {},
   "outputs": [],
   "source": [
    "# Contenido del archivo mis_funciones.py\n",
    "\n",
    "def func_cuadratica(x):\n",
    "    return x * x\n",
    "\n",
    "\n",
    "def func_sumatoria(lista):\n",
    "    s = 0\n",
    "    for l in lista:\n",
    "        s +=l\n",
    "    return s"
   ]
  },
  {
   "cell_type": "code",
   "execution_count": null,
   "metadata": {},
   "outputs": [],
   "source": [
    "# Contenido del archivo test_funciones.py\n",
    "\n",
    "from mi_paquete.mis_funciones import func_cuadratica, func_sumatoria\n",
    "\n",
    "def test_func_cuadratica():\n",
    "    valor_esperado = 9\n",
    "    assert func_cuadratica(3) == valor_esperado\n",
    "\n",
    "def test_func_sumatoria():\n",
    "    valor_esperado = 6\n",
    "    assert func_sumatoria([1,2,3]) == valor_esperado"
   ]
  },
  {
   "cell_type": "markdown",
   "metadata": {},
   "source": [
    "### Desde la terminal\n",
    "### En el caso de Windows: Desde la terminal de \"Anaconda Prompt\" ubicada en la carpeta de instalación\n"
   ]
  },
  {
   "cell_type": "markdown",
   "metadata": {},
   "source": [
    "### $ pytest \n",
    "\n",
    "### Detallar el resultado de la prueba: opción -v\n",
    "### $ pytest -v \n",
    "\n",
    "<br/>\n",
    "<br/>\n",
    "<br/>\n",
    "\n",
    "<img src=\"figs/fig_test4.png\" width=\"1200\">"
   ]
  },
  {
   "cell_type": "code",
   "execution_count": null,
   "metadata": {},
   "outputs": [],
   "source": []
  },
  {
   "cell_type": "code",
   "execution_count": null,
   "metadata": {},
   "outputs": [],
   "source": []
  },
  {
   "cell_type": "code",
   "execution_count": null,
   "metadata": {},
   "outputs": [],
   "source": []
  },
  {
   "cell_type": "code",
   "execution_count": null,
   "metadata": {},
   "outputs": [],
   "source": []
  },
  {
   "cell_type": "markdown",
   "metadata": {},
   "source": [
    "\n",
    "\n",
    "# <span style=\"color:#0485CF\"> Pytest: Usando excepciones </span>\n",
    "\n",
    " - ### Errores detectados durante la ejecución son llamadas excepciones (Exceptions)\n",
    " \n",
    " - ### La mayoría de las excepciones no son administradas por los programas y pueden resultar en mensajes de error y detener la ejecución del programa. Un ejemplo es como en el siguiente,  una división por cero\n",
    "\n",
    "\n",
    "```python\n",
    " 10 * (1/0)\n",
    "Traceback (most recent call last):\n",
    "  File \"<stdin>\", line 1, in <module>\n",
    "ZeroDivisionError: division by zero\n",
    "\n",
    "```\n",
    "\n",
    "\n",
    "\n",
    " - ### https://docs.python.org/3/tutorial/errors.html\n",
    " "
   ]
  },
  {
   "cell_type": "markdown",
   "metadata": {},
   "source": [
    "# Assertions  sobre excepciones esperadas\n",
    "### pytest.raises\n",
    "\n",
    "```python\n",
    "def test_dividir_excepcion():\n",
    "    with pytest.raises(ValueError, match=\"No se puede dividir por cero\")\n",
    "        dividir(10, 0)\n",
    "\n",
    "```        "
   ]
  },
  {
   "cell_type": "markdown",
   "metadata": {},
   "source": [
    "### En Pytest, se verifica si la función está realizando las comprobaciones adecuadas para datos de entrada erróneos en las funciones de testing:  test_dividir_excepcion\n",
    "#### Al ejecutar el método dividir con datos de entrada incorrectos, se genera la excepción la cual comprueba pytest, pues es lo que se espera para esta entrada de datos. Lo que hace que la prueba se cumpla satisfactoriamente. "
   ]
  },
  {
   "cell_type": "code",
   "execution_count": 17,
   "metadata": {},
   "outputs": [],
   "source": [
    "import pytest\n",
    "\n",
    "# Función que queremos probar\n",
    "def dividir(a, b):\n",
    "    if b == 0:\n",
    "        raise ValueError(\"No se puede dividir por cero\")\n",
    "    return a / b\n",
    "\n",
    "# Prueba para verificar que se lanza una excepción\n",
    "def test_dividir_excepcion():\n",
    "    # Se espera que una excepción sea lanzada en este caso  dividir(10, 0)\n",
    "    with pytest.raises(ValueError):\n",
    "        dividir(10, 0)\n",
    "\n",
    "# Prueba para verificar que se lanza una excepción, si se requiere acceso a la información de la excepción lanzada\n",
    "def test_dividir_excepcion2():\n",
    "    # Se espera que una excepción sea lanzada en este caso  dividir(10, 0)\n",
    "    val_esperado = \"No se puede dividir por cero\"\n",
    "    with pytest.raises(ValueError) as excinfo:\n",
    "        dividir(15, 0)\n",
    "    assert str(excinfo.value) == val_esperado\n",
    "\n",
    "# Prueba para verificar el resultado correcto\n",
    "def test_dividir_correcto():\n",
    "    assert dividir(10, 2) == 5\n",
    "    assert dividir(9, 3) == 3\n"
   ]
  },
  {
   "cell_type": "code",
   "execution_count": null,
   "metadata": {},
   "outputs": [],
   "source": []
  },
  {
   "cell_type": "code",
   "execution_count": null,
   "metadata": {},
   "outputs": [],
   "source": []
  },
  {
   "cell_type": "markdown",
   "metadata": {},
   "source": [
    "# <span style=\"color:#0485CF\"> Ejercicio: </span>\n",
    "\n",
    "### Crear las pruebas unitarias independientes del código fuente para las siguientes funciones y considera las posibles excepciones:\n",
    "\n",
    "- ### Función que calcule el factorial de un número\n",
    "\n",
    "- ### Función que calcule el promedio de una lista de números\n"
   ]
  }
 ],
 "metadata": {
  "kernelspec": {
   "display_name": "TPS",
   "language": "python",
   "name": "python3"
  },
  "language_info": {
   "codemirror_mode": {
    "name": "ipython",
    "version": 3
   },
   "file_extension": ".py",
   "mimetype": "text/x-python",
   "name": "python",
   "nbconvert_exporter": "python",
   "pygments_lexer": "ipython3",
   "version": "3.13.1"
  }
 },
 "nbformat": 4,
 "nbformat_minor": 2
}
